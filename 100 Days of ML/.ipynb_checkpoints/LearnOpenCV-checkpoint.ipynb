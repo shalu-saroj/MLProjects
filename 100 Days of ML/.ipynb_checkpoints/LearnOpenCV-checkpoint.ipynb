{
 "cells": [
  {
   "cell_type": "code",
   "execution_count": 1,
   "id": "f977b98c-548f-4bf9-a9c2-eeba3fa930f1",
   "metadata": {},
   "outputs": [
    {
     "name": "stdout",
     "output_type": "stream",
     "text": [
      "Key pressed: -1\n"
     ]
    }
   ],
   "source": [
    "\n",
    "\n",
    "# Load the image\n",
    "img = cv2.imread('resources/img1.jpeg')\n",
    "\n",
    "# Display the image in a window named 'Lens'\n",
    "cv2.imshow('Lens', img)\n",
    "\n",
    "# Wait indefinitely for a key press\n",
    "key = cv2.waitKey(10000)\n",
    "\n",
    "# Print the ASCII code of the key pressed\n",
    "print(f\"Key pressed: {key}\")\n",
    "\n",
    "# Destroy all windows\n",
    "cv2.destroyAllWindows()\n"
   ]
  },
  {
   "cell_type": "code",
   "execution_count": 1,
   "id": "2b93acb8-1ba2-4b88-bb7c-9d3d42b3be5f",
   "metadata": {},
   "outputs": [],
   "source": [
    "frameWidth = 640\n",
    "frameHeight = 360"
   ]
  },
  {
   "cell_type": "code",
   "execution_count": 7,
   "id": "2412b27b-980a-4ffb-a067-4a729009a6c6",
   "metadata": {},
   "outputs": [],
   "source": []
  },
  {
   "cell_type": "code",
   "execution_count": 1,
   "id": "662deb21-4fe0-403a-a375-77620168b5b0",
   "metadata": {},
   "outputs": [
    {
     "name": "stderr",
     "output_type": "stream",
     "text": [
      "2024-06-02 23:27:43.343 python[3057:117178] WARNING: AVCaptureDeviceTypeExternal is deprecated for Continuity Cameras. Please use AVCaptureDeviceTypeContinuityCamera and add NSCameraUseContinuityCameraDeviceType to your Info.plist.\n"
     ]
    }
   ],
   "source": [
    "import cv2\n",
    "\n",
    "frameWidth = 6000\n",
    "frameHeight = 360 \n",
    "\n",
    "cap = cv2.VideoCapture(1)\n",
    "cap.set(3, frameWidth)\n",
    "cap.set(4, frameHeight)\n",
    "while True:\n",
    "    success, img = cap.read()\n",
    "    cv2.imshow('We are live',img)\n",
    "\n",
    "    if cv2.waitKey(1) & 0xFF == ord('q'):\n",
    "        break\n",
    "\n",
    "# Release the capture and close the window\n",
    "cap.release()\n",
    "cv2.destroyAllWindows()"
   ]
  },
  {
   "cell_type": "code",
   "execution_count": 1,
   "id": "3ec1cff1-a8f7-43ac-baec-9cef164ab439",
   "metadata": {},
   "outputs": [
    {
     "name": "stderr",
     "output_type": "stream",
     "text": [
      "2024-06-02 23:25:00.228 python[3043:115994] WARNING: AVCaptureDeviceTypeExternal is deprecated for Continuity Cameras. Please use AVCaptureDeviceTypeContinuityCamera and add NSCameraUseContinuityCameraDeviceType to your Info.plist.\n"
     ]
    }
   ],
   "source": [
    "import cv2\n",
    "\n",
    "frameWidth = 60\n",
    "frameHeight = 360 \n",
    "\n",
    "cap = cv2.VideoCapture(1)\n",
    "\n",
    "try:\n",
    "    while True:\n",
    "        success, img = cap.read()\n",
    "        \n",
    "        if not success:\n",
    "            print(\"Failed to capture image\")\n",
    "            break\n",
    "\n",
    "        # Resize the frame if needed\n",
    "        img = cv2.resize(img, (frameWidth, frameHeight))\n",
    "        \n",
    "        cv2.imshow('We are live', img)\n",
    "\n",
    "        # Check if 'q' key is pressed to exit the loop\n",
    "        if cv2.waitKey(1) & 0xFF == ord('q'):\n",
    "            break\n",
    "finally:\n",
    "    # Release the capture object and close all windows\n",
    "    cap.release()\n",
    "    cv2.destroyAllWindows()"
   ]
  },
  {
   "cell_type": "code",
   "execution_count": null,
   "id": "0c5a7b1f-ac66-4ce4-9d39-c84f8901e362",
   "metadata": {},
   "outputs": [],
   "source": []
  }
 ],
 "metadata": {
  "kernelspec": {
   "display_name": "Python 3 (ipykernel)",
   "language": "python",
   "name": "python3"
  },
  "language_info": {
   "codemirror_mode": {
    "name": "ipython",
    "version": 3
   },
   "file_extension": ".py",
   "mimetype": "text/x-python",
   "name": "python",
   "nbconvert_exporter": "python",
   "pygments_lexer": "ipython3",
   "version": "3.11.7"
  }
 },
 "nbformat": 4,
 "nbformat_minor": 5
}
